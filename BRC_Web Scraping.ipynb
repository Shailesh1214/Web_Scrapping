{
 "cells": [
  {
   "cell_type": "code",
   "execution_count": 8,
   "metadata": {},
   "outputs": [
    {
     "name": "stdout",
     "output_type": "stream",
     "text": [
      "Downloading main website...\n",
      "Done!\n",
      "Search button clicked. Please wait...\n",
      "Done!\n"
     ]
    }
   ],
   "source": [
    "from selenium import webdriver\n",
    "from bs4 import BeautifulSoup\n",
    "import re\n",
    "\n",
    "link = 'https://www.brcdirectory.com/internalsite/index.aspx'\n",
    "\n",
    "#options = webdriver.ChromeOptions()\n",
    "#options.add_argument('headless')\n",
    "\n",
    "\n",
    "chromepath=(r\"C:\\Users\\bipin\\Downloads\\chromedriver_win32\\chromedriver.exe\")\n",
    "driver=webdriver.Chrome(chromepath)\n",
    "\n",
    "#driver = webdriver.Chrome(options=options)\n",
    "print('Downloading main website...')\n",
    "driver.get(link)\n",
    "print('Done!')\n",
    "\n",
    "button = driver.find_elements_by_xpath(\"//input[@name='ctl00$ContentPlaceHolder1$GOCS' and @class='button']\")[0]\n",
    "print('Search button clicked. Please wait...')\n",
    "button.click()\n",
    "print('Done!')\n",
    "\n",
    "table_list = {}"
   ]
  },
  {
   "cell_type": "code",
   "execution_count": 24,
   "metadata": {},
   "outputs": [],
   "source": [
    "html = driver.page_source\n",
    "\n",
    "# Extract the table\n",
    "soup = BeautifulSoup(html, 'lxml')\n",
    "\n",
    "data = soup.find('table', {'id': re.compile(r'.+ContentPlaceHolder.+')})\n",
    "\n",
    "current_page = data.find_all('table')[-1].span.text\n",
    "\n",
    "filename = 'page_'+current_page+'.html'\n",
    "\n",
    "# Write the table to file\n",
    "with open(filename, 'w+', encoding='utf8') as file:\n",
    "    file.write((''.join([str(content) for content in data.contents])).strip())"
   ]
  },
  {
   "cell_type": "code",
   "execution_count": 23,
   "metadata": {},
   "outputs": [],
   "source": [
    "# Find next page button\n",
    "next_page = int(current_page) + 1\n",
    "button = driver.find_element_by_link_text(str(next_page))\n",
    "\n",
    "# Click on the button\n",
    "button.click()"
   ]
  },
  {
   "cell_type": "code",
   "execution_count": 5,
   "metadata": {},
   "outputs": [],
   "source": [
    "\n",
    "# Close the driver\n",
    "driver.quit()"
   ]
  },
  {
   "cell_type": "code",
   "execution_count": 28,
   "metadata": {},
   "outputs": [],
   "source": [
    "# this is use for extract the downloaded html file in jupiter \n",
    "from urllib.request import  urlopen,Request"
   ]
  },
  {
   "cell_type": "code",
   "execution_count": 36,
   "metadata": {},
   "outputs": [
    {
     "data": {
      "text/plain": [
       "b'<!DOCTYPE HTML>\\n<html>\\n\\n<head>\\n    <meta charset=\"utf-8\">\\n\\n    <title>Jupyter Notebook</title>\\n    <link id=\"favicon\" rel=\"shortcut icon\" type=\"image/x-icon\" href=\"/static/base/images/favicon.ico?v=97c6417ed01bdc0ae3ef32ae4894fd03\">\\n    <meta http-equiv=\"X-UA-Compatible\" content=\"IE=edge\" />\\n    <link rel=\"stylesheet\" href=\"/static/components/jquery-ui/themes/smoothness/jquery-ui.min.css?v=3c2a865c832a1322285c55c6ed99abb2\" type=\"text/css\" />\\n    <link rel=\"stylesheet\" href=\"/static/components/jquery-typeahead/dist/jquery.typeahead.min.css?v=7afb461de36accb1aa133a1710f5bc56\" type=\"text/css\" />\\n    <meta name=\"viewport\" content=\"width=device-width, initial-scale=1.0\">\\n    \\n    \\n\\n    <link rel=\"stylesheet\" href=\"/static/style/style.min.css?v=e91a43337d7c294cc9fab2938fa723b3\" type=\"text/css\"/>\\n    \\n<link rel=\"stylesheet\" href=\"/static/auth/css/override.css?v=ae668279c8a80c1d2e81fc28345169ee\" type=\"text/css\" />\\n\\n    <link rel=\"stylesheet\" href=\"/custom/custom.css\" type=\"text/css\" />\\n    <script src=\"/static/components/es6-promise/promise.min.js?v=f004a16cb856e0ff11781d01ec5ca8fe\" type=\"text/javascript\" charset=\"utf-8\"></script>\\n    <script src=\"/static/components/react/react.production.min.js?v=34f96ffc962a7deecc83037ccb582b58\" type=\"text/javascript\"></script>\\n    <script src=\"/static/components/react/react-dom.production.min.js?v=b14d91fb641317cda38dbc9dbf985ab4\" type=\"text/javascript\"></script>\\n    <script src=\"/static/components/create-react-class/index.js?v=94feb9971ce6d26211729abc43f96cd2\" type=\"text/javascript\"></script>\\n    <script src=\"/static/components/requirejs/require.js?v=951f856e81496aaeec2e71a1c2c0d51f\" type=\"text/javascript\" charset=\"utf-8\"></script>\\n    <script>\\n      require.config({\\n          \\n          urlArgs: \"v=20200507143042\",\\n          \\n          baseUrl: \\'/static/\\',\\n          paths: {\\n            \\'auth/js/main\\': \\'auth/js/main.min\\',\\n            custom : \\'/custom\\',\\n            nbextensions : \\'/nbextensions\\',\\n            kernelspecs : \\'/kernelspecs\\',\\n            underscore : \\'components/underscore/underscore-min\\',\\n            backbone : \\'components/backbone/backbone-min\\',\\n            jed: \\'components/jed/jed\\',\\n            jquery: \\'components/jquery/jquery.min\\',\\n            json: \\'components/requirejs-plugins/src/json\\',\\n            text: \\'components/requirejs-text/text\\',\\n            bootstrap: \\'components/bootstrap/dist/js/bootstrap.min\\',\\n            bootstraptour: \\'components/bootstrap-tour/build/js/bootstrap-tour.min\\',\\n            \\'jquery-ui\\': \\'components/jquery-ui/jquery-ui.min\\',\\n            moment: \\'components/moment/min/moment-with-locales\\',\\n            codemirror: \\'components/codemirror\\',\\n            termjs: \\'components/xterm.js/xterm\\',\\n            typeahead: \\'components/jquery-typeahead/dist/jquery.typeahead.min\\',\\n          },\\n          map: { // for backward compatibility\\n              \"*\": {\\n                  \"jqueryui\": \"jquery-ui\",\\n              }\\n          },\\n          shim: {\\n            typeahead: {\\n              deps: [\"jquery\"],\\n              exports: \"typeahead\"\\n            },\\n            underscore: {\\n              exports: \\'_\\'\\n            },\\n            backbone: {\\n              deps: [\"underscore\", \"jquery\"],\\n              exports: \"Backbone\"\\n            },\\n            bootstrap: {\\n              deps: [\"jquery\"],\\n              exports: \"bootstrap\"\\n            },\\n            bootstraptour: {\\n              deps: [\"bootstrap\"],\\n              exports: \"Tour\"\\n            },\\n            \"jquery-ui\": {\\n              deps: [\"jquery\"],\\n              exports: \"$\"\\n            }\\n          },\\n          waitSeconds: 30,\\n      });\\n\\n      require.config({\\n          map: {\\n              \\'*\\':{\\n                \\'contents\\': \\'services/contents\\',\\n              }\\n          }\\n      });\\n\\n      // error-catching custom.js shim.\\n      define(\"custom\", function (require, exports, module) {\\n          try {\\n              var custom = require(\\'custom/custom\\');\\n              console.debug(\\'loaded custom.js\\');\\n              return custom;\\n          } catch (e) {\\n              console.error(\"error loading custom.js\", e);\\n              return {};\\n          }\\n      })\\n\\n    document.nbjs_translations = {\"domain\": \"nbjs\", \"locale_data\": {\"nbjs\": {\"\": {\"domain\": \"nbjs\"}}}};\\n    document.documentElement.lang = navigator.language.toLowerCase();\\n    </script>\\n\\n    \\n    \\n\\n</head>\\n\\n<body class=\"\"\\n \\n  \\n \\ndir=\"ltr\">\\n\\n<noscript>\\n    <div id=\\'noscript\\'>\\n      Jupyter Notebook requires JavaScript.<br>\\n      Please enable it to proceed. \\n  </div>\\n</noscript>\\n\\n<div id=\"header\" role=\"navigation\" aria-label=\"Top Menu\">\\n  <div id=\"header-container\" class=\"container\">\\n  <div id=\"ipython_notebook\" class=\"nav navbar-brand\"><a href=\"/tree\" title=\\'dashboard\\'>\\n      <img src=\\'/static/base/images/logo.png?v=641991992878ee24c6f3826e81054a0f\\' alt=\\'Jupyter Notebook\\'/>\\n  </a></div>\\n\\n  \\n  \\n  \\n  \\n  \\n  \\n\\n\\n  \\n  \\n  </div>\\n  <div class=\"header-bar\"></div>\\n\\n  \\n  \\n</div>\\n\\n<div id=\"site\">\\n\\n\\n<div id=\"ipython-main-app\" class=\"container\">\\n\\n    \\n    \\n    <div class=\"row\">\\n    <div class=\"navbar col-sm-8\">\\n      <div class=\"navbar-inner\">\\n        <div class=\"container\">\\n          <div class=\"center-nav\">\\n            <form action=\"/login?next=%2Fview%2FWEB%2520SCRAPPING%2Fpage_2.html\" method=\"post\" class=\"navbar-form pull-left\">\\n              <input type=\"hidden\" name=\"_xsrf\" value=\"2|54e59524|f215d4985b3dac2f81c38f0ba33006da|1588844595\"/>\\n              \\n                <label for=\"password_input\"><strong>Password or token:</strong></label>\\n              \\n              <input type=\"password\" name=\"password\" id=\"password_input\" class=\"form-control\">\\n              <button type=\"submit\" class=\"btn btn-default\" id=\"login_submit\">Log in</button>\\n            </form>\\n          </div>\\n        </div>\\n      </div>\\n    </div>\\n    </div>\\n    \\n    \\n    \\n    \\n    <div class=\"col-sm-6 col-sm-offset-3 text-left rendered_html\">\\n      <h3>\\n        Token authentication is enabled\\n      </h3>\\n      <p>\\n        If no password has been configured, you need to open the notebook\\n        server with its login token in the URL, or paste it above.\\n        This requirement will be lifted if you\\n        <b><a href=\\'https://jupyter-notebook.readthedocs.io/en/stable/public_server.html\\'>\\n            enable a password</a></b>.\\n      </p>\\n      <p>\\n        The command:\\n        <pre>jupyter notebook list</pre>\\n        will show you the URLs of running servers with their tokens,\\n        which you can copy and paste into your browser. For example:\\n      </p>\\n      <pre>Currently running servers:\\nhttp://localhost:8888/?token=c8de56fa... :: /Users/you/notebooks\\n</pre>\\n      <p>\\n        or you can paste just the token value into the password field on this\\n        page.\\n      </p>\\n      <p>\\n        See\\n        <b><a\\n         href=\\'https://jupyter-notebook.readthedocs.io/en/stable/public_server.html\\'>\\n                the documentation on how to enable a password</a>\\n        </b>\\n        in place of token authentication,\\n        if you would like to avoid dealing with random tokens.\\n      </p>\\n      <p>\\n        Cookies are required for authenticated access to notebooks.\\n      </p>\\n      \\n        <h3>Setup a Password</h3>\\n        <p> You can also setup a password by entering your token and a new password\\n        on the fields below:</p>\\n        <form action=\"/login?next=%2Fview%2FWEB%2520SCRAPPING%2Fpage_2.html\" method=\"post\" class=\"\">\\n                <input type=\"hidden\" name=\"_xsrf\" value=\"2|54e59524|f215d4985b3dac2f81c38f0ba33006da|1588844595\"/>\\n          <div class=\"form-group\">\\n            <label for=\"token_input\"><h4>Token</h4></label>\\n            <input type=\"password\" name=\"password\" id=\"token_input\" class=\"form-control\">\\n          </div>\\n          <div class=\"form-group\">\\n            <label for=\"new_password_input\"><h4>New Password</h4></label>\\n            <input type=\"password\" name=\"new_password\" id=\"new_password_input\" class=\"form-control\" required>\\n          </div>\\n          <div class=\"form-group\">\\n            <button type=\"submit\" class=\"btn btn-default\" id=\"login_new_pass_submit\">Log in and set new password</button>\\n          </div>\\n        </form>\\n      \\n\\n    </div>\\n    \\n    \\n</div>\\n\\n\\n</div>\\n\\n\\n\\n\\n\\n\\n\\n\\n<script type=\"text/javascript\">\\n  require([\"auth/js/main\"], function (auth) {\\n    auth.login_main();\\n  });\\n</script>\\n\\n\\n\\n<script type=\\'text/javascript\\'>\\n  function _remove_token_from_url() {\\n    if (window.location.search.length <= 1) {\\n      return;\\n    }\\n    var search_parameters = window.location.search.slice(1).split(\\'&\\');\\n    for (var i = 0; i < search_parameters.length; i++) {\\n      if (search_parameters[i].split(\\'=\\')[0] === \\'token\\') {\\n        // remote token from search parameters\\n        search_parameters.splice(i, 1);\\n        var new_search = \\'\\';\\n        if (search_parameters.length) {\\n          new_search = \\'?\\' + search_parameters.join(\\'&\\');\\n        }\\n        var new_url = window.location.origin + \\n                      window.location.pathname + \\n                      new_search + \\n                      window.location.hash;\\n        window.history.replaceState({}, \"\", new_url);\\n        return;\\n      }\\n    }\\n  }\\n  _remove_token_from_url();\\n</script>\\n</body>\\n\\n</html>'"
      ]
     },
     "execution_count": 36,
     "metadata": {},
     "output_type": "execute_result"
    }
   ],
   "source": [
    "import requests\n",
    "\n",
    "\n",
    "url=('http://localhost:8888/view/WEB%20SCRAPPING/page_2.html')\n",
    "res=Request(url)\n",
    "response=urlopen(res)\n",
    "html=response.read()\n",
    "html\n"
   ]
  },
  {
   "cell_type": "code",
   "execution_count": null,
   "metadata": {},
   "outputs": [],
   "source": []
  },
  {
   "cell_type": "code",
   "execution_count": null,
   "metadata": {},
   "outputs": [],
   "source": []
  },
  {
   "cell_type": "markdown",
   "metadata": {},
   "source": [
    "# for just simple to get data use this but in this code u can get only 1st page data and in above code u get all data"
   ]
  },
  {
   "cell_type": "code",
   "execution_count": 25,
   "metadata": {},
   "outputs": [],
   "source": [
    "from selenium import webdriver\n",
    "import pandas as pd  \n",
    "import datetime\n",
    "from bs4 import BeautifulSoup as soup\n",
    "\n",
    "final_list={}\n",
    "chromepath=(r\"C:\\Users\\bipin\\Downloads\\chromedriver_win32\\chromedriver.exe\")\n",
    "driver=webdriver.Chrome(chromepath)\n",
    "url=driver.get(\"https://www.brcdirectory.com/InternalSite//Siteresults.aspx?\")\n",
    "#soup.select('div[id$=_answer]')\n",
    "posts=driver.find_element_by_id(\"aspnetForm\")#using this i got only 1st pade data \n",
    "#posts=driver.find_element_by_xpath(\"//input[@name='ctl00$ContentPlaceHolder1$GOCS' and @class='button']\")[0] # useing this i got error \n",
    "#javascript:__doPostBack('ctl00$ContentPlaceHolder1$gv_Results','Page$2')"
   ]
  },
  {
   "cell_type": "code",
   "execution_count": 26,
   "metadata": {},
   "outputs": [
    {
     "name": "stdout",
     "output_type": "stream",
     "text": [
      "<selenium.webdriver.remote.webelement.WebElement (session=\"8ec9da2bf3acdd925ffb0757adb28a91\", element=\"1d1bec1b-2f33-4da2-91b9-b72faec7610d\")>\n",
      "RESULTS :\n",
      "29663 sites found New search Order by : \n",
      " \n",
      "Site Name\n",
      " Site Name (Reverse Order)\n",
      " Country\n",
      " Country (Reverse Order)\n",
      " Grade\n",
      " Grade (Reverse Order)\n",
      "C.S.I Compagnia Surgelati Italiana Spa.\n",
      "City : Cisterna di Latina\n",
      "Region/State: Lazio\n",
      "Country: ITALY\n",
      "Standard: 1 - Food\n",
      "Scope: Production and packing in plastic bags (PE) and carton case (GC2, with inner layer in PE) of frozen fresh vegetables, fried frozen fish products, frozen prepared meals, frozen pasta, frozen sauces and frozen vegetable side dishes. Production of frozen rehydrated cereals and legumes.\n",
      "Grade: AA\n",
      "\n",
      "SEE'S INTERNATIONAL FOOD MANUFACTURING CORP\n",
      "City : PH - - Davao City\n",
      "Region/State:\n",
      "Country: PHILIPPINES\n",
      "Standard: 1 - Food\n",
      "Scope: Production of Banana Chips (Sweetened and Unsweetened) and Packed in HDPE Bags in Corrugated Master Cartons\n",
      "Grade: A\n",
      "\n",
      "AFRICAN RED NORD\n",
      "City : Moulay Bousselham\n",
      "Region/State: Kenitra\n",
      "Country: MOROCCO\n",
      "Standard: 1 - Food\n",
      "Voluntary Module: GLOBALG.A.P.\n",
      "Scope: Selection, grading, cool storing and packaging of fresh raspberries, blackberries and strawberries into plastic punnets and cardboard boxes.\n",
      "Grade: A\n",
      "\n",
      "Agricultural Cooperative of Meliki (AS MELIKI)\n",
      "City : IMATHIA\n",
      "Region/State:\n",
      "Country: GREECE\n",
      "Standard: 1 - Food\n",
      "Scope: Sorting, grading and packing of fresh peaches, nectarines, kiwis, apricots and plums in plastic punnets, carton boxes, plastic crates and wooden boxes.\n",
      "Grade: A\n",
      "\n",
      "Agroyex Exportaciones del Perú S.A.C.\n",
      "City : Sullana\n",
      "Region/State: Piura\n",
      "Country: PERU\n",
      "Standard: 1 - Food\n",
      "Scope: Reception, weighing, cleaning and sanitation, selection and calibration, weighing, packaging, palletizing and strapping, cooling, storage and dispatch of grapes\n",
      "Grade: B\n",
      "\n",
      "1 2 3 4 5 6 7 8 9 10 ...\n"
     ]
    }
   ],
   "source": [
    "print(posts)\n",
    "df=posts.text\n",
    "#final_list.append([posts.text])\n",
    "print(df)"
   ]
  },
  {
   "cell_type": "code",
   "execution_count": 27,
   "metadata": {},
   "outputs": [
    {
     "ename": "AttributeError",
     "evalue": "'str' object has no attribute 'to_excel'",
     "output_type": "error",
     "traceback": [
      "\u001b[1;31m---------------------------------------------------------------------------\u001b[0m",
      "\u001b[1;31mAttributeError\u001b[0m                            Traceback (most recent call last)",
      "\u001b[1;32m<ipython-input-27-cb50ae9d6cb1>\u001b[0m in \u001b[0;36m<module>\u001b[1;34m\u001b[0m\n\u001b[1;32m----> 1\u001b[1;33m \u001b[0mdf\u001b[0m\u001b[1;33m.\u001b[0m\u001b[0mto_excel\u001b[0m \u001b[1;33m(\u001b[0m\u001b[1;34mr'E:\\ML\\Web scrp\\export_dataframe.xlsx'\u001b[0m\u001b[1;33m,\u001b[0m \u001b[0mindex\u001b[0m \u001b[1;33m=\u001b[0m \u001b[1;32mFalse\u001b[0m\u001b[1;33m,\u001b[0m \u001b[0mheader\u001b[0m\u001b[1;33m=\u001b[0m\u001b[1;32mTrue\u001b[0m\u001b[1;33m)\u001b[0m\u001b[1;33m\u001b[0m\u001b[1;33m\u001b[0m\u001b[0m\n\u001b[0m",
      "\u001b[1;31mAttributeError\u001b[0m: 'str' object has no attribute 'to_excel'"
     ]
    }
   ],
   "source": [
    "df.to_excel (r'E:\\ML\\Web scrp\\export_dataframe.xlsx', index = False, header=True)"
   ]
  },
  {
   "cell_type": "code",
   "execution_count": null,
   "metadata": {},
   "outputs": [],
   "source": []
  }
 ],
 "metadata": {
  "kernelspec": {
   "display_name": "Python 3",
   "language": "python",
   "name": "python3"
  },
  "language_info": {
   "codemirror_mode": {
    "name": "ipython",
    "version": 3
   },
   "file_extension": ".py",
   "mimetype": "text/x-python",
   "name": "python",
   "nbconvert_exporter": "python",
   "pygments_lexer": "ipython3",
   "version": "3.7.4"
  }
 },
 "nbformat": 4,
 "nbformat_minor": 2
}
